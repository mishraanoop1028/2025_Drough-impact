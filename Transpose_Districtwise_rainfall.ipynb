{
  "nbformat": 4,
  "nbformat_minor": 0,
  "metadata": {
    "colab": {
      "provenance": []
    },
    "kernelspec": {
      "name": "python3",
      "display_name": "Python 3"
    },
    "language_info": {
      "name": "python"
    }
  },
  "cells": [
    {
      "cell_type": "code",
      "execution_count": 1,
      "metadata": {
        "colab": {
          "base_uri": "https://localhost:8080/"
        },
        "id": "Uirxrf-MAQYc",
        "outputId": "28c326fc-d065-4d6a-a5e8-1173876dd273"
      },
      "outputs": [
        {
          "output_type": "stream",
          "name": "stdout",
          "text": [
            "✅ Transposed data saved successfully!\n"
          ]
        }
      ],
      "source": [
        "import pandas as pd\n",
        "\n",
        "# 📂 Load the Excel file\n",
        "file_path = \"/content/1.1980.xlsx\"\n",
        "df = pd.read_excel(file_path, header=None)  # Load without altering headers\n",
        "\n",
        "# 📌 Select B2 to M2 (Columns B to M, Row 2)\n",
        "transposed_values = df.iloc[1, 1:13].T  # Row index 1 (2nd row), Columns B:M (1:13 in zero-indexing)\n",
        "\n",
        "# 🔄 Convert to DataFrame for export\n",
        "transposed_df = pd.DataFrame(transposed_values).reset_index(drop=True)\n",
        "\n",
        "# 💾 Save Transposed Data to a New File\n",
        "transposed_df.to_excel(\"/content/transposed_1.1980.xlsx\", index=False, header=False)\n",
        "\n",
        "print(\"✅ Transposed data saved successfully!\")\n"
      ]
    },
    {
      "cell_type": "code",
      "source": [
        "import pandas as pd\n",
        "\n",
        "# 📂 Load the Excel file\n",
        "file_path = \"/content/1.1980.xlsx\"\n",
        "df = pd.read_excel(file_path, header=None)  # Load without altering headers\n",
        "\n",
        "# 📌 Preserve Column A from Row 1 to Row 13\n",
        "column_A = df.iloc[:13, 0]  # Select rows 1 to 13 (0-based index)\n",
        "\n",
        "# 🔄 Transpose B2:M2 (Row 2, Columns B to M)\n",
        "transposed_values = df.iloc[1, 1:13].T  # Extract and transpose\n",
        "\n",
        "# 📝 Convert to DataFrame and add Column A back\n",
        "transposed_df = pd.DataFrame(transposed_values).reset_index(drop=True)\n",
        "transposed_df.insert(0, \"Column A\", column_A.values[:len(transposed_df)])  # Keep Column A\n",
        "\n",
        "# 💾 Save Transposed Data to a New File\n",
        "transposed_df.to_excel(\"/content/transposed_1.1980.xlsx\", index=False, header=False)\n",
        "\n",
        "print(\"✅ Transposed data saved successfully without affecting Column A (Rows 1-13)!\")\n"
      ],
      "metadata": {
        "colab": {
          "base_uri": "https://localhost:8080/"
        },
        "id": "AC6Zu2ArA4Qi",
        "outputId": "a30754af-0e36-4f3a-f01b-976b5ddfb6b6"
      },
      "execution_count": 3,
      "outputs": [
        {
          "output_type": "stream",
          "name": "stdout",
          "text": [
            "✅ Transposed data saved successfully without affecting Column A (Rows 1-13)!\n"
          ]
        }
      ]
    },
    {
      "cell_type": "code",
      "source": [
        "import pandas as pd\n",
        "\n",
        "# 📂 Load the Excel file\n",
        "file_path = \"/content/Pali.xlsx\"\n",
        "df = pd.read_excel(file_path, header=None)  # Load without altering headers\n",
        "\n",
        "# 📌 Preserve Column A from Row 2 to Row 42\n",
        "column_A = df.iloc[1:42, 0]  # Selecting Column A (Row 2 to Row 42)\n",
        "\n",
        "# 🔄 Transpose Columns B to M for Rows 2 to 42\n",
        "transposed_values = df.iloc[1:42, 1:13].T  # Extracting B2:M42 and transposing\n",
        "\n",
        "# 📝 Convert to DataFrame and Add Column A Back\n",
        "transposed_df = pd.DataFrame(transposed_values).reset_index(drop=True)\n",
        "transposed_df.insert(0, \"Column A\", column_A.values[:len(transposed_df)])  # Preserve Column A\n",
        "\n",
        "# 💾 Save Transposed Data to a New File\n",
        "transposed_df.to_excel(\"/content/transposed_Pali.xlsx\", index=False, header=False)\n",
        "\n",
        "print(\"✅ Transposed data saved successfully without affecting Column A (Rows 2-42)!\")\n"
      ],
      "metadata": {
        "colab": {
          "base_uri": "https://localhost:8080/"
        },
        "id": "8hUtv69_Bjv_",
        "outputId": "662f9484-a347-42c7-cec3-d84a4c45b037"
      },
      "execution_count": 4,
      "outputs": [
        {
          "output_type": "stream",
          "name": "stdout",
          "text": [
            "✅ Transposed data saved successfully without affecting Column A (Rows 2-42)!\n"
          ]
        }
      ]
    },
    {
      "cell_type": "code",
      "source": [
        "import pandas as pd\n",
        "\n",
        "# 📂 Load the Excel file\n",
        "file_path = \"/content/Pali.xlsx\"\n",
        "df = pd.read_excel(file_path, header=None)  # Load without altering headers\n",
        "\n",
        "# 📌 Preserve Column A from Row 2 to Row 42\n",
        "column_A = df.iloc[1:42, 0].repeat(12).reset_index(drop=True)  # Repeat each value 12 times\n",
        "\n",
        "# 🔄 Transpose Columns B to M (Row 2 to Row 42) into a single column\n",
        "transposed_values = df.iloc[1:42, 1:13].values.flatten()  # Convert to a single column\n",
        "\n",
        "# 📝 Create a New DataFrame\n",
        "transposed_df = pd.DataFrame({\"Column A\": column_A, \"Column B\": transposed_values})\n",
        "\n",
        "# 💾 Save Transposed Data to a New File\n",
        "transposed_df.to_excel(\"/content/transposed_Pali.xlsx\", index=False, header=False)\n",
        "\n",
        "print(\"✅ Transposed data saved successfully! Now, all values are in Column B while keeping Column A unchanged.\")\n"
      ],
      "metadata": {
        "colab": {
          "base_uri": "https://localhost:8080/"
        },
        "id": "hP8w_yvYDAk9",
        "outputId": "091099c4-cf88-4536-9d3f-c2e143290dae"
      },
      "execution_count": 5,
      "outputs": [
        {
          "output_type": "stream",
          "name": "stdout",
          "text": [
            "✅ Transposed data saved successfully! Now, all values are in Column B while keeping Column A unchanged.\n"
          ]
        }
      ]
    },
    {
      "cell_type": "code",
      "source": [
        "import pandas as pd\n",
        "\n",
        "# 📂 Load the Excel file\n",
        "file_path = \"/content/Barmer.xlsx\"\n",
        "df = pd.read_excel(file_path, header=None)  # Load without altering headers\n",
        "\n",
        "# 📌 Preserve Column A from Row 2 to Row 42\n",
        "column_A = df.iloc[1:42, 0].repeat(12).reset_index(drop=True)  # Repeat each value 12 times\n",
        "\n",
        "# 🔄 Transpose Columns B to M (Row 2 to Row 42) into a single column\n",
        "transposed_values = df.iloc[1:42, 1:13].values.flatten()  # Convert to a single column\n",
        "\n",
        "# 📝 Create a New DataFrame\n",
        "transposed_df = pd.DataFrame({\"Column A\": column_A, \"Column B\": transposed_values})\n",
        "\n",
        "# 💾 Save Transposed Data to a New File\n",
        "transposed_df.to_excel(\"/content/transposed_Barmer.xlsx\", index=False, header=False)\n",
        "\n",
        "print(\"✅ Transposed data saved successfully! Now, all values are in Column B while keeping Column A unchanged.\")\n"
      ],
      "metadata": {
        "colab": {
          "base_uri": "https://localhost:8080/"
        },
        "id": "bv6ofFNHFIwv",
        "outputId": "42aa1781-9b67-4e63-d9aa-507a7ede424c"
      },
      "execution_count": 6,
      "outputs": [
        {
          "output_type": "stream",
          "name": "stdout",
          "text": [
            "✅ Transposed data saved successfully! Now, all values are in Column B while keeping Column A unchanged.\n"
          ]
        }
      ]
    },
    {
      "cell_type": "code",
      "source": [
        "import pandas as pd\n",
        "\n",
        "# 📂 Load the Excel file\n",
        "file_path = \"/content/Jodhpur.xlsx\"\n",
        "df = pd.read_excel(file_path, header=None)  # Load without altering headers\n",
        "\n",
        "# 📌 Preserve Column A from Row 2 to Row 42\n",
        "column_A = df.iloc[1:42, 0].repeat(12).reset_index(drop=True)  # Repeat each value 12 times\n",
        "\n",
        "# 🔄 Transpose Columns B to M (Row 2 to Row 42) into a single column\n",
        "transposed_values = df.iloc[1:42, 1:13].values.flatten()  # Convert to a single column\n",
        "\n",
        "# 📝 Create a New DataFrame\n",
        "transposed_df = pd.DataFrame({\"Column A\": column_A, \"Column B\": transposed_values})\n",
        "\n",
        "# 💾 Save Transposed Data to a New File\n",
        "transposed_df.to_excel(\"/content/transposed_Jodhpur.xlsx\", index=False, header=False)\n",
        "\n",
        "print(\"✅ Transposed data saved successfully! Now, all values are in Column B while keeping Column A unchanged.\")\n"
      ],
      "metadata": {
        "colab": {
          "base_uri": "https://localhost:8080/"
        },
        "id": "TuuXAv79Fzza",
        "outputId": "bf10f61b-6032-4014-a403-707efc8af88a"
      },
      "execution_count": 7,
      "outputs": [
        {
          "output_type": "stream",
          "name": "stdout",
          "text": [
            "✅ Transposed data saved successfully! Now, all values are in Column B while keeping Column A unchanged.\n"
          ]
        }
      ]
    },
    {
      "cell_type": "code",
      "source": [
        "import pandas as pd\n",
        "\n",
        "# 📂 Load the Excel file\n",
        "file_path = \"/content/Sirohi.xlsx\"\n",
        "df = pd.read_excel(file_path, header=None)  # Load without altering headers\n",
        "\n",
        "# 📌 Preserve Column A from Row 2 to Row 42\n",
        "column_A = df.iloc[1:42, 0].repeat(12).reset_index(drop=True)  # Repeat each value 12 times\n",
        "\n",
        "# 🔄 Transpose Columns B to M (Row 2 to Row 42) into a single column\n",
        "transposed_values = df.iloc[1:42, 1:13].values.flatten()  # Convert to a single column\n",
        "\n",
        "# 📝 Create a New DataFrame\n",
        "transposed_df = pd.DataFrame({\"Column A\": column_A, \"Column B\": transposed_values})\n",
        "\n",
        "# 💾 Save Transposed Data to a New File\n",
        "transposed_df.to_excel(\"/content/transposed_Sirohi.xlsx\", index=False, header=False)\n",
        "\n",
        "print(\"✅ Transposed data saved successfully! Now, all values are in Column B while keeping Column A unchanged.\")\n"
      ],
      "metadata": {
        "colab": {
          "base_uri": "https://localhost:8080/"
        },
        "id": "uHlg0VlyGe_m",
        "outputId": "4f34e0cf-6b5a-4b60-eb4b-fcc972e5fc2b"
      },
      "execution_count": 8,
      "outputs": [
        {
          "output_type": "stream",
          "name": "stdout",
          "text": [
            "✅ Transposed data saved successfully! Now, all values are in Column B while keeping Column A unchanged.\n"
          ]
        }
      ]
    }
  ]
}